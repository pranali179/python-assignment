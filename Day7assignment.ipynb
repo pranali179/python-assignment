{
 "cells": [
  {
   "cell_type": "markdown",
   "metadata": {},
   "source": [
    "Q1"
   ]
  },
  {
   "cell_type": "code",
   "execution_count": 2,
   "metadata": {},
   "outputs": [
    {
     "name": "stdout",
     "output_type": "stream",
     "text": [
      "{'ftp': 21, 'ssh': 22, 'telnet': 23, 'http': 80}\n"
     ]
    }
   ],
   "source": [
    "port1={21:\"ftp\",22:\"ssh\",23:\"telnet\",80:\"http\"}\n",
    "d1=list(port1.keys())\n",
    "d2=list(port1.values())\n",
    "port2={d2[i]:d1[i] for i in range(len(d1))}\n",
    "print(port2)"
   ]
  },
  {
   "cell_type": "markdown",
   "metadata": {},
   "source": [
    "Q2"
   ]
  },
  {
   "cell_type": "code",
   "execution_count": 4,
   "metadata": {},
   "outputs": [
    {
     "name": "stdout",
     "output_type": "stream",
     "text": [
      "[3, 9, 7, 11]\n"
     ]
    }
   ],
   "source": [
    "list={(1,2),(3,4),(5,6),(4,5)}\n",
    "result=[sum(i) for i in list]\n",
    "print(result)"
   ]
  },
  {
   "cell_type": "markdown",
   "metadata": {},
   "source": [
    "Q3"
   ]
  },
  {
   "cell_type": "code",
   "execution_count": 6,
   "metadata": {},
   "outputs": [
    {
     "name": "stdout",
     "output_type": "stream",
     "text": [
      "[1, 2, 3, 1, 2, 'a', 'hit', 'less']\n"
     ]
    }
   ],
   "source": [
    "list=[(1,2,3),[1,2],['a','hit','less']]\n",
    "result=[]\n",
    "for i in list:\n",
    "    if type(i)==type(list):\n",
    "        result=result+i\n",
    "    elif type(i)==tuple:\n",
    "        result.extend(i)\n",
    "    else:\n",
    "        result.append(i)\n",
    "print(result)"
   ]
  }
 ],
 "metadata": {
  "kernelspec": {
   "display_name": "Python 3",
   "language": "python",
   "name": "python3"
  },
  "language_info": {
   "codemirror_mode": {
    "name": "ipython",
    "version": 3
   },
   "file_extension": ".py",
   "mimetype": "text/x-python",
   "name": "python",
   "nbconvert_exporter": "python",
   "pygments_lexer": "ipython3",
   "version": "3.7.6"
  }
 },
 "nbformat": 4,
 "nbformat_minor": 4
}
